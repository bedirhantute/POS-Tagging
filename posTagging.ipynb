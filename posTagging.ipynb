{
  "nbformat": 4,
  "nbformat_minor": 0,
  "metadata": {
    "colab": {
      "provenance": [],
      "collapsed_sections": [
        "bGI8OxZj7LKp",
        "uoZOE45Y7aw9"
      ],
      "toc_visible": true
    },
    "kernelspec": {
      "name": "python3",
      "display_name": "Python 3"
    },
    "language_info": {
      "name": "python"
    }
  },
  "cells": [
    {
      "cell_type": "markdown",
      "source": [
        "# POS Tagging"
      ],
      "metadata": {
        "id": "qr_J447v1tsQ"
      }
    },
    {
      "cell_type": "markdown",
      "source": [
        "<p>One of the core tasks in Natural Language Processing (NLP) is Parts of Speech (PoS) tagging, which is giving each word in a text a grammatical category, such as nouns, verbs, adjectives, and adverbs. Through improved comprehension of phrase structure and semantics, this technique makes it possible for machines to study and comprehend human language more accurately."
      ],
      "metadata": {
        "id": "_Zi5VEBHTJQ0"
      }
    },
    {
      "cell_type": "markdown",
      "source": [
        "## POS Tagging with spaCy\n"
      ],
      "metadata": {
        "id": "bGI8OxZj7LKp"
      }
    },
    {
      "cell_type": "markdown",
      "source": [
        "In the below, you can find a simple Python example built with **spaCy** with the given sentences."
      ],
      "metadata": {
        "id": "HHBCYw63SoQg"
      }
    },
    {
      "cell_type": "code",
      "execution_count": 45,
      "metadata": {
        "id": "aj3SraP41m2M"
      },
      "outputs": [],
      "source": [
        "import spacy\n",
        "nlp = spacy.load('en_core_web_sm')    # Loading model"
      ]
    },
    {
      "cell_type": "code",
      "source": [
        "sentences= [\n",
        "    \"The prevalence of discrimination across racial groups in contemporary America:\",\n",
        "    \"Indeed, the implementation of certain policies is rooted in the assumption that discrimination and biases are, at least to some appreciable amount, present in modern society.\",\n",
        "    \"What do you think was the main reason for these experiences?\",\n",
        "    \"Some countries have recently adopted a similar course, which we welcome.\",\n",
        "    \"Sometimes this information is available, but usually not.\",\n",
        "    \"Make sure the shelter box has no nails or safety hazards.\",\n",
        "    \"A barn owl is the best.\",\n",
        "    \"A family of barn owls can eat many mice in a night!\",\n",
        "    \"Okay next to my bed, I've got the radio alarm clock, and this has actually changed my life.\",\n",
        "    \"It makes waking up in the morning and getting out of bed at 6:00 a.m. when it's pitch black outside so much easier when you're waking up really early.\"\n",
        "]\n",
        "\n",
        "\n",
        "for sentence in sentences:\n",
        "    doc = nlp(sentence)\n",
        "    for token in doc:\n",
        "      print(token.text, \" => \", token.pos_, \" = \", spacy.explain(token.pos_), \" | \", token.tag_, \" => \", spacy.explain(token.tag_))\n"
      ],
      "metadata": {
        "colab": {
          "base_uri": "https://localhost:8080/"
        },
        "id": "zzBl1lTH76kp",
        "outputId": "9900c835-4439-4cc9-ea53-74330216a981"
      },
      "execution_count": 46,
      "outputs": [
        {
          "output_type": "stream",
          "name": "stdout",
          "text": [
            "The  =>  DET  =  determiner  |  DT  =>  determiner\n",
            "prevalence  =>  NOUN  =  noun  |  NN  =>  noun, singular or mass\n",
            "of  =>  ADP  =  adposition  |  IN  =>  conjunction, subordinating or preposition\n",
            "discrimination  =>  NOUN  =  noun  |  NN  =>  noun, singular or mass\n",
            "across  =>  ADP  =  adposition  |  IN  =>  conjunction, subordinating or preposition\n",
            "racial  =>  ADJ  =  adjective  |  JJ  =>  adjective (English), other noun-modifier (Chinese)\n",
            "groups  =>  NOUN  =  noun  |  NNS  =>  noun, plural\n",
            "in  =>  ADP  =  adposition  |  IN  =>  conjunction, subordinating or preposition\n",
            "contemporary  =>  PROPN  =  proper noun  |  NNP  =>  noun, proper singular\n",
            "America  =>  PROPN  =  proper noun  |  NNP  =>  noun, proper singular\n",
            ":  =>  PUNCT  =  punctuation  |  :  =>  punctuation mark, colon or ellipsis\n",
            "Indeed  =>  ADV  =  adverb  |  RB  =>  adverb\n",
            ",  =>  PUNCT  =  punctuation  |  ,  =>  punctuation mark, comma\n",
            "the  =>  DET  =  determiner  |  DT  =>  determiner\n",
            "implementation  =>  NOUN  =  noun  |  NN  =>  noun, singular or mass\n",
            "of  =>  ADP  =  adposition  |  IN  =>  conjunction, subordinating or preposition\n",
            "certain  =>  ADJ  =  adjective  |  JJ  =>  adjective (English), other noun-modifier (Chinese)\n",
            "policies  =>  NOUN  =  noun  |  NNS  =>  noun, plural\n",
            "is  =>  AUX  =  auxiliary  |  VBZ  =>  verb, 3rd person singular present\n",
            "rooted  =>  VERB  =  verb  |  VBN  =>  verb, past participle\n",
            "in  =>  ADP  =  adposition  |  IN  =>  conjunction, subordinating or preposition\n",
            "the  =>  DET  =  determiner  |  DT  =>  determiner\n",
            "assumption  =>  NOUN  =  noun  |  NN  =>  noun, singular or mass\n",
            "that  =>  SCONJ  =  subordinating conjunction  |  IN  =>  conjunction, subordinating or preposition\n",
            "discrimination  =>  NOUN  =  noun  |  NN  =>  noun, singular or mass\n",
            "and  =>  CCONJ  =  coordinating conjunction  |  CC  =>  conjunction, coordinating\n",
            "biases  =>  NOUN  =  noun  |  NNS  =>  noun, plural\n",
            "are  =>  AUX  =  auxiliary  |  VBP  =>  verb, non-3rd person singular present\n",
            ",  =>  PUNCT  =  punctuation  |  ,  =>  punctuation mark, comma\n",
            "at  =>  ADP  =  adposition  |  IN  =>  conjunction, subordinating or preposition\n",
            "least  =>  ADJ  =  adjective  |  JJS  =>  adjective, superlative\n",
            "to  =>  ADP  =  adposition  |  IN  =>  conjunction, subordinating or preposition\n",
            "some  =>  DET  =  determiner  |  DT  =>  determiner\n",
            "appreciable  =>  ADJ  =  adjective  |  JJ  =>  adjective (English), other noun-modifier (Chinese)\n",
            "amount  =>  NOUN  =  noun  |  NN  =>  noun, singular or mass\n",
            ",  =>  PUNCT  =  punctuation  |  ,  =>  punctuation mark, comma\n",
            "present  =>  ADJ  =  adjective  |  JJ  =>  adjective (English), other noun-modifier (Chinese)\n",
            "in  =>  ADP  =  adposition  |  IN  =>  conjunction, subordinating or preposition\n",
            "modern  =>  ADJ  =  adjective  |  JJ  =>  adjective (English), other noun-modifier (Chinese)\n",
            "society  =>  NOUN  =  noun  |  NN  =>  noun, singular or mass\n",
            ".  =>  PUNCT  =  punctuation  |  .  =>  punctuation mark, sentence closer\n",
            "What  =>  PRON  =  pronoun  |  WP  =>  wh-pronoun, personal\n",
            "do  =>  AUX  =  auxiliary  |  VBP  =>  verb, non-3rd person singular present\n",
            "you  =>  PRON  =  pronoun  |  PRP  =>  pronoun, personal\n",
            "think  =>  VERB  =  verb  |  VB  =>  verb, base form\n",
            "was  =>  AUX  =  auxiliary  |  VBD  =>  verb, past tense\n",
            "the  =>  DET  =  determiner  |  DT  =>  determiner\n",
            "main  =>  ADJ  =  adjective  |  JJ  =>  adjective (English), other noun-modifier (Chinese)\n",
            "reason  =>  NOUN  =  noun  |  NN  =>  noun, singular or mass\n",
            "for  =>  ADP  =  adposition  |  IN  =>  conjunction, subordinating or preposition\n",
            "these  =>  DET  =  determiner  |  DT  =>  determiner\n",
            "experiences  =>  NOUN  =  noun  |  NNS  =>  noun, plural\n",
            "?  =>  PUNCT  =  punctuation  |  .  =>  punctuation mark, sentence closer\n",
            "Some  =>  DET  =  determiner  |  DT  =>  determiner\n",
            "countries  =>  NOUN  =  noun  |  NNS  =>  noun, plural\n",
            "have  =>  AUX  =  auxiliary  |  VBP  =>  verb, non-3rd person singular present\n",
            "recently  =>  ADV  =  adverb  |  RB  =>  adverb\n",
            "adopted  =>  VERB  =  verb  |  VBN  =>  verb, past participle\n",
            "a  =>  DET  =  determiner  |  DT  =>  determiner\n",
            "similar  =>  ADJ  =  adjective  |  JJ  =>  adjective (English), other noun-modifier (Chinese)\n",
            "course  =>  NOUN  =  noun  |  NN  =>  noun, singular or mass\n",
            ",  =>  PUNCT  =  punctuation  |  ,  =>  punctuation mark, comma\n",
            "which  =>  PRON  =  pronoun  |  WDT  =>  wh-determiner\n",
            "we  =>  PRON  =  pronoun  |  PRP  =>  pronoun, personal\n",
            "welcome  =>  VERB  =  verb  |  VBP  =>  verb, non-3rd person singular present\n",
            ".  =>  PUNCT  =  punctuation  |  .  =>  punctuation mark, sentence closer\n",
            "Sometimes  =>  ADV  =  adverb  |  RB  =>  adverb\n",
            "this  =>  DET  =  determiner  |  DT  =>  determiner\n",
            "information  =>  NOUN  =  noun  |  NN  =>  noun, singular or mass\n",
            "is  =>  AUX  =  auxiliary  |  VBZ  =>  verb, 3rd person singular present\n",
            "available  =>  ADJ  =  adjective  |  JJ  =>  adjective (English), other noun-modifier (Chinese)\n",
            ",  =>  PUNCT  =  punctuation  |  ,  =>  punctuation mark, comma\n",
            "but  =>  CCONJ  =  coordinating conjunction  |  CC  =>  conjunction, coordinating\n",
            "usually  =>  ADV  =  adverb  |  RB  =>  adverb\n",
            "not  =>  PART  =  particle  |  RB  =>  adverb\n",
            ".  =>  PUNCT  =  punctuation  |  .  =>  punctuation mark, sentence closer\n",
            "Make  =>  VERB  =  verb  |  VB  =>  verb, base form\n",
            "sure  =>  ADJ  =  adjective  |  JJ  =>  adjective (English), other noun-modifier (Chinese)\n",
            "the  =>  DET  =  determiner  |  DT  =>  determiner\n",
            "shelter  =>  NOUN  =  noun  |  NN  =>  noun, singular or mass\n",
            "box  =>  NOUN  =  noun  |  NN  =>  noun, singular or mass\n",
            "has  =>  VERB  =  verb  |  VBZ  =>  verb, 3rd person singular present\n",
            "no  =>  DET  =  determiner  |  DT  =>  determiner\n",
            "nails  =>  NOUN  =  noun  |  NNS  =>  noun, plural\n",
            "or  =>  CCONJ  =  coordinating conjunction  |  CC  =>  conjunction, coordinating\n",
            "safety  =>  NOUN  =  noun  |  NN  =>  noun, singular or mass\n",
            "hazards  =>  NOUN  =  noun  |  NNS  =>  noun, plural\n",
            ".  =>  PUNCT  =  punctuation  |  .  =>  punctuation mark, sentence closer\n",
            "A  =>  DET  =  determiner  |  DT  =>  determiner\n",
            "barn  =>  NOUN  =  noun  |  NN  =>  noun, singular or mass\n",
            "owl  =>  NOUN  =  noun  |  NN  =>  noun, singular or mass\n",
            "is  =>  AUX  =  auxiliary  |  VBZ  =>  verb, 3rd person singular present\n",
            "the  =>  DET  =  determiner  |  DT  =>  determiner\n",
            "best  =>  ADJ  =  adjective  |  JJS  =>  adjective, superlative\n",
            ".  =>  PUNCT  =  punctuation  |  .  =>  punctuation mark, sentence closer\n",
            "A  =>  DET  =  determiner  |  DT  =>  determiner\n",
            "family  =>  NOUN  =  noun  |  NN  =>  noun, singular or mass\n",
            "of  =>  ADP  =  adposition  |  IN  =>  conjunction, subordinating or preposition\n",
            "barn  =>  ADJ  =  adjective  |  JJ  =>  adjective (English), other noun-modifier (Chinese)\n",
            "owls  =>  NOUN  =  noun  |  NNS  =>  noun, plural\n",
            "can  =>  AUX  =  auxiliary  |  MD  =>  verb, modal auxiliary\n",
            "eat  =>  VERB  =  verb  |  VB  =>  verb, base form\n",
            "many  =>  ADJ  =  adjective  |  JJ  =>  adjective (English), other noun-modifier (Chinese)\n",
            "mice  =>  NOUN  =  noun  |  NNS  =>  noun, plural\n",
            "in  =>  ADP  =  adposition  |  IN  =>  conjunction, subordinating or preposition\n",
            "a  =>  DET  =  determiner  |  DT  =>  determiner\n",
            "night  =>  NOUN  =  noun  |  NN  =>  noun, singular or mass\n",
            "!  =>  PUNCT  =  punctuation  |  .  =>  punctuation mark, sentence closer\n",
            "Okay  =>  INTJ  =  interjection  |  UH  =>  interjection\n",
            "next  =>  ADV  =  adverb  |  RB  =>  adverb\n",
            "to  =>  ADP  =  adposition  |  IN  =>  conjunction, subordinating or preposition\n",
            "my  =>  PRON  =  pronoun  |  PRP$  =>  pronoun, possessive\n",
            "bed  =>  NOUN  =  noun  |  NN  =>  noun, singular or mass\n",
            ",  =>  PUNCT  =  punctuation  |  ,  =>  punctuation mark, comma\n",
            "I  =>  PRON  =  pronoun  |  PRP  =>  pronoun, personal\n",
            "'ve  =>  AUX  =  auxiliary  |  VBP  =>  verb, non-3rd person singular present\n",
            "got  =>  VERB  =  verb  |  VBN  =>  verb, past participle\n",
            "the  =>  DET  =  determiner  |  DT  =>  determiner\n",
            "radio  =>  NOUN  =  noun  |  NN  =>  noun, singular or mass\n",
            "alarm  =>  NOUN  =  noun  |  NN  =>  noun, singular or mass\n",
            "clock  =>  NOUN  =  noun  |  NN  =>  noun, singular or mass\n",
            ",  =>  PUNCT  =  punctuation  |  ,  =>  punctuation mark, comma\n",
            "and  =>  CCONJ  =  coordinating conjunction  |  CC  =>  conjunction, coordinating\n",
            "this  =>  PRON  =  pronoun  |  DT  =>  determiner\n",
            "has  =>  AUX  =  auxiliary  |  VBZ  =>  verb, 3rd person singular present\n",
            "actually  =>  ADV  =  adverb  |  RB  =>  adverb\n",
            "changed  =>  VERB  =  verb  |  VBN  =>  verb, past participle\n",
            "my  =>  PRON  =  pronoun  |  PRP$  =>  pronoun, possessive\n",
            "life  =>  NOUN  =  noun  |  NN  =>  noun, singular or mass\n",
            ".  =>  PUNCT  =  punctuation  |  .  =>  punctuation mark, sentence closer\n",
            "It  =>  PRON  =  pronoun  |  PRP  =>  pronoun, personal\n",
            "makes  =>  VERB  =  verb  |  VBZ  =>  verb, 3rd person singular present\n",
            "waking  =>  VERB  =  verb  |  VBG  =>  verb, gerund or present participle\n",
            "up  =>  ADP  =  adposition  |  RP  =>  adverb, particle\n",
            "in  =>  ADP  =  adposition  |  IN  =>  conjunction, subordinating or preposition\n",
            "the  =>  DET  =  determiner  |  DT  =>  determiner\n",
            "morning  =>  NOUN  =  noun  |  NN  =>  noun, singular or mass\n",
            "and  =>  CCONJ  =  coordinating conjunction  |  CC  =>  conjunction, coordinating\n",
            "getting  =>  VERB  =  verb  |  VBG  =>  verb, gerund or present participle\n",
            "out  =>  ADP  =  adposition  |  IN  =>  conjunction, subordinating or preposition\n",
            "of  =>  ADP  =  adposition  |  IN  =>  conjunction, subordinating or preposition\n",
            "bed  =>  NOUN  =  noun  |  NN  =>  noun, singular or mass\n",
            "at  =>  ADP  =  adposition  |  IN  =>  conjunction, subordinating or preposition\n",
            "6:00  =>  NUM  =  numeral  |  CD  =>  cardinal number\n",
            "a.m.  =>  NOUN  =  noun  |  NN  =>  noun, singular or mass\n",
            "when  =>  SCONJ  =  subordinating conjunction  |  WRB  =>  wh-adverb\n",
            "it  =>  PRON  =  pronoun  |  PRP  =>  pronoun, personal\n",
            "'s  =>  AUX  =  auxiliary  |  VBZ  =>  verb, 3rd person singular present\n",
            "pitch  =>  NOUN  =  noun  |  NN  =>  noun, singular or mass\n",
            "black  =>  ADJ  =  adjective  |  JJ  =>  adjective (English), other noun-modifier (Chinese)\n",
            "outside  =>  ADV  =  adverb  |  RB  =>  adverb\n",
            "so  =>  ADV  =  adverb  |  RB  =>  adverb\n",
            "much  =>  ADV  =  adverb  |  RB  =>  adverb\n",
            "easier  =>  ADJ  =  adjective  |  JJR  =>  adjective, comparative\n",
            "when  =>  SCONJ  =  subordinating conjunction  |  WRB  =>  wh-adverb\n",
            "you  =>  PRON  =  pronoun  |  PRP  =>  pronoun, personal\n",
            "'re  =>  AUX  =  auxiliary  |  VBP  =>  verb, non-3rd person singular present\n",
            "waking  =>  VERB  =  verb  |  VBG  =>  verb, gerund or present participle\n",
            "up  =>  ADP  =  adposition  |  RP  =>  adverb, particle\n",
            "really  =>  ADV  =  adverb  |  RB  =>  adverb\n",
            "early  =>  ADV  =  adverb  |  RB  =>  adverb\n",
            ".  =>  PUNCT  =  punctuation  |  .  =>  punctuation mark, sentence closer\n"
          ]
        }
      ]
    },
    {
      "cell_type": "markdown",
      "source": [
        "## POS Tagging with ZEMBEREK"
      ],
      "metadata": {
        "id": "uoZOE45Y7aw9"
      }
    },
    {
      "cell_type": "markdown",
      "source": [
        "In the below, you can find a simple Python example built with **ZEMBEREK** with the given sentences."
      ],
      "metadata": {
        "id": "36pMGIrLa9rn"
      }
    },
    {
      "cell_type": "code",
      "source": [
        "!pip install jpype1\n",
        "!pip install zemberek-python"
      ],
      "metadata": {
        "colab": {
          "base_uri": "https://localhost:8080/"
        },
        "collapsed": true,
        "id": "sE7uWmUo7g_D",
        "outputId": "10d1aa23-0413-4d54-9178-32c53598dc39"
      },
      "execution_count": 50,
      "outputs": [
        {
          "output_type": "stream",
          "name": "stdout",
          "text": [
            "Requirement already satisfied: jpype1 in /usr/local/lib/python3.10/dist-packages (1.5.1)\n",
            "Requirement already satisfied: packaging in /usr/local/lib/python3.10/dist-packages (from jpype1) (24.2)\n",
            "Collecting zemberek-python\n",
            "  Downloading zemberek_python-0.2.3-py3-none-any.whl.metadata (2.7 kB)\n",
            "Collecting antlr4-python3-runtime==4.8 (from zemberek-python)\n",
            "  Downloading antlr4-python3-runtime-4.8.tar.gz (112 kB)\n",
            "\u001b[2K     \u001b[90m━━━━━━━━━━━━━━━━━━━━━━━━━━━━━━━━━━━━━━━━\u001b[0m \u001b[32m112.4/112.4 kB\u001b[0m \u001b[31m3.8 MB/s\u001b[0m eta \u001b[36m0:00:00\u001b[0m\n",
            "\u001b[?25h  Preparing metadata (setup.py) ... \u001b[?25l\u001b[?25hdone\n",
            "Requirement already satisfied: numpy>=1.19.0 in /usr/local/lib/python3.10/dist-packages (from zemberek-python) (1.26.4)\n",
            "Downloading zemberek_python-0.2.3-py3-none-any.whl (95.1 MB)\n",
            "\u001b[2K   \u001b[90m━━━━━━━━━━━━━━━━━━━━━━━━━━━━━━━━━━━━━━━━\u001b[0m \u001b[32m95.1/95.1 MB\u001b[0m \u001b[31m6.3 MB/s\u001b[0m eta \u001b[36m0:00:00\u001b[0m\n",
            "\u001b[?25hBuilding wheels for collected packages: antlr4-python3-runtime\n",
            "  Building wheel for antlr4-python3-runtime (setup.py) ... \u001b[?25l\u001b[?25hdone\n",
            "  Created wheel for antlr4-python3-runtime: filename=antlr4_python3_runtime-4.8-py3-none-any.whl size=141214 sha256=078fa1920013784e988d7055c420bbfe7fabf26b4e6360717413942a3b99a319\n",
            "  Stored in directory: /root/.cache/pip/wheels/a7/20/bd/e1477d664f22d99989fd28ee1a43d6633dddb5cb9e801350d5\n",
            "Successfully built antlr4-python3-runtime\n",
            "Installing collected packages: antlr4-python3-runtime, zemberek-python\n",
            "Successfully installed antlr4-python3-runtime-4.8 zemberek-python-0.2.3\n"
          ]
        }
      ]
    },
    {
      "cell_type": "code",
      "source": [
        "import zemberek\n",
        "from zemberek import TurkishMorphology, TurkishSentenceExtractor, TurkishTokenizer"
      ],
      "metadata": {
        "id": "Udb3GHRcUfE0"
      },
      "execution_count": 51,
      "outputs": []
    },
    {
      "cell_type": "code",
      "source": [
        "tokenizer = TurkishTokenizer.DEFAULT\n",
        "morphology = TurkishMorphology.create_with_defaults()"
      ],
      "metadata": {
        "colab": {
          "base_uri": "https://localhost:8080/"
        },
        "id": "LxVViQE8U1Tt",
        "outputId": "87edd0ea-1c1c-4b20-ff9e-8484a7f8bba0"
      },
      "execution_count": 56,
      "outputs": [
        {
          "output_type": "stream",
          "name": "stderr",
          "text": [
            "INFO:zemberek.morphology.turkish_morphology:TurkishMorphology instance initialized in 19.08867597579956\n"
          ]
        },
        {
          "output_type": "stream",
          "name": "stdout",
          "text": [
            "2024-12-14 08:43:54,852 - zemberek.morphology.turkish_morphology - INFO\n",
            "Msg: TurkishMorphology instance initialized in 19.08867597579956\n",
            "\n"
          ]
        }
      ]
    },
    {
      "cell_type": "code",
      "source": [
        "result = morphology.analyze(\"kahve\")\n",
        "print(result)"
      ],
      "metadata": {
        "colab": {
          "base_uri": "https://localhost:8080/"
        },
        "id": "-dr1S7unVrFV",
        "outputId": "7cf08c6c-14d8-4c19-c4a2-506af17e0afb"
      },
      "execution_count": 57,
      "outputs": [
        {
          "output_type": "stream",
          "name": "stdout",
          "text": [
            "WordAnalysis{input='kahve', normalizedInput='kahve', analysisResults=[kahve:Noun] kahve:Noun+A3sg}\n"
          ]
        }
      ]
    },
    {
      "cell_type": "code",
      "source": [
        "sentences = [\n",
        "    \"Koyun kurt ile gezerdi, fikir başka başka olmasa.\",\n",
        "    \"Sıraya koyunca en önemlisini öne almak lazım geldi.\"\n",
        "    \"Pakize bu son fikri fazla beğenmişti ve itiraf edeyim ki Pakize'nin zevki benim için bir çeşit miyar olmuştu.\",\n",
        "    \"Doğduğuma pişman olacak kadar sıkıntı çektim.\",\n",
        "    \"Kim ona yan bakarsa kemiklerini kırar, anasını ağlatırım.\",\n",
        "    \"Onlara göre yaşlı yazarların anısal birikimi daha fazlaydı.\",\n",
        "    \"Yaşamı her yönden yalnızlığa yaslanmış olan bu kadına tek çocuğun bile anlayış gösterdiğini sanmam.\",\n",
        "    \"Polis olay yerine 4 dakika içinde ulaştı.\",\n",
        "    \"Yüksekte tutulan bir taştaki gizli güç, taş bırakılınca mekanik bir güç durumunda ortaya çıkar.\",\n",
        "    \"Bu hastanede doğmuşum.\"\n",
        "    \"xxxxxxxxxxxxxxxxxxxxxx\"\n",
        "]\n",
        "\n",
        "for sentence in sentences:\n",
        "  for token in tokenizer.tokenize(sentence):\n",
        "    #print(token)\n",
        "    #tokens = tokenizer.tokenize(sentence)\n",
        "    #print(tokens)\n",
        "    analysis = morphology.analyze(token.normalized)\n",
        "    if analysis.analysis_results:\n",
        "      print(token.content , \" => \", analysis.analysis_results[0])\n",
        "    else:\n",
        "      print(token.content , \" => \", \"No analysis\")\n"
      ],
      "metadata": {
        "colab": {
          "base_uri": "https://localhost:8080/"
        },
        "collapsed": true,
        "id": "ZXTD3f4fXVG2",
        "outputId": "6ca8d77f-b59d-40b7-83f2-c4d747fa1a2e"
      },
      "execution_count": 82,
      "outputs": [
        {
          "output_type": "stream",
          "name": "stdout",
          "text": [
            "Koyun  =>  [koymak:Verb] koy:Verb+Imp+un:A2pl\n",
            "kurt  =>  [kurt:Adj] kurt:Adj\n",
            "ile  =>  [ile:Postp, PCNom] ile:Postp\n",
            "gezerdi  =>  [gezmek:Verb] gez:Verb+er:Aor+di:Past+A3sg\n",
            ",  =>  [,:Punc] ,:Punc\n",
            "fikir  =>  [fikir:Noun] fikir:Noun+A3sg\n",
            "başka  =>  [başka:Adj] başka:Adj\n",
            "başka  =>  [başka:Adj] başka:Adj\n",
            "olmasa  =>  [olmak:Verb] ol:Verb+ma:Neg+sa:Desr+A3sg\n",
            ".  =>  [.:Punc] .:Punc\n",
            "Sıraya  =>  [sıra:Noun] sıra:Noun+A3sg+ya:Dat\n",
            "koyunca  =>  [koymak:Verb] koy:Verb|unca:When→Adv\n",
            "en  =>  [en:Adv] en:Adv\n",
            "önemlisini  =>  [önem:Noun] önem:Noun+A3sg|li:With→Adj|Zero→Noun+A3sg+si:P3sg+ni:Acc\n",
            "öne  =>  [önemek:Verb] öne:Verb+Imp+A2sg\n",
            "almak  =>  [almak:Verb] al:Verb|mak:Inf1→Noun+A3sg\n",
            "lazım  =>  [lazım:Adj] lazım:Adj\n",
            "geldi  =>  [gelmek:Verb] gel:Verb+di:Past+A3sg\n",
            ".  =>  [.:Punc] .:Punc\n",
            "Pakize  =>  [Pakize:Noun, Prop] pakize:Noun+A3sg\n",
            "bu  =>  [bu:Det] bu:Det\n",
            "son  =>  [son:Adj] son:Adj\n",
            "fikri  =>  [fikrî:Adj] fikri:Adj\n",
            "fazla  =>  [fazla:Adv] fazla:Adv\n",
            "beğenmişti  =>  [beğenmek:Verb] beğen:Verb+miş:Narr+ti:Past+A3sg\n",
            "ve  =>  [ve:Conj] ve:Conj\n",
            "itiraf  =>  [itiraf:Noun] itiraf:Noun+A3sg\n",
            "edeyim  =>  [etmek:Verb] ed:Verb+e:Opt+yim:A1sg\n",
            "ki  =>  [ki:Conj] ki:Conj\n",
            "Pakize'nin  =>  [Pakize:Noun, Prop] pakize:Noun+A3sg+nin:Gen\n",
            "zevki  =>  [zevk:Noun] zevk:Noun+A3sg+i:Acc\n",
            "benim  =>  [ben:Pron, Pers] ben:Pron+A1sg+im:Gen\n",
            "için  =>  [için:Postp, PCGen] için:Postp\n",
            "bir  =>  [bir:Det] bir:Det\n",
            "çeşit  =>  [çeşit:Adj] çeşit:Adj\n",
            "miyar  =>  [miyar:Noun] miyar:Noun+A3sg\n",
            "olmuştu  =>  [olmak:Verb] ol:Verb+muş:Narr+tu:Past+A3sg\n",
            ".  =>  [.:Punc] .:Punc\n",
            "Doğduğuma  =>  [doğmak:Verb] doğ:Verb|duğ:PastPart→Noun+A3sg+um:P1sg+a:Dat\n",
            "pişman  =>  [pişman:Adj] pişman:Adj\n",
            "olacak  =>  [olmak:Verb] ol:Verb+acak:Fut+A3sg\n",
            "kadar  =>  [kadar:Postp, PCGen] kadar:Postp\n",
            "sıkıntı  =>  [sıkıntı:Noun] sıkıntı:Noun+A3sg\n",
            "çektim  =>  [çekmek:Verb] çek:Verb+ti:Past+m:A1sg\n",
            ".  =>  [.:Punc] .:Punc\n",
            "Kim  =>  [kim:Conj] kim:Conj\n",
            "ona  =>  [onmak:Verb] on:Verb+a:Opt+A3sg\n",
            "yan  =>  [yan:Adv] yan:Adv\n",
            "bakarsa  =>  [bakmak:Verb] bak:Verb+ar:Aor+sa:Cond+A3sg\n",
            "kemiklerini  =>  [kemik:Noun] kemik:Noun+A3sg+leri:P3pl+ni:Acc\n",
            "kırar  =>  [kırmak:Verb] kır:Verb+ar:Aor+A3sg\n",
            ",  =>  [,:Punc] ,:Punc\n",
            "anasını  =>  [ana:Noun] ana:Noun+A3sg+sı:P3sg+nı:Acc\n",
            "ağlatırım  =>  [ağlamak:Verb] ağla:Verb|t:Caus→Verb+ır:Aor+ım:A1sg\n",
            ".  =>  [.:Punc] .:Punc\n",
            "Onlara  =>  [o:Pron, Demons] o:Pron+nlar:A3pl+a:Dat\n",
            "göre  =>  [göre:Postp, PCDat] göre:Postp\n",
            "yaşlı  =>  [yaş:Noun] yaş:Noun+A3sg|lı:With→Adj\n",
            "yazarların  =>  [yazar:Noun] yazar:Noun+lar:A3pl+ın:Gen\n",
            "anısal  =>  [Anı:Noun, Prop] anı:Noun+A3sg|sal:Related→Adj\n",
            "birikimi  =>  [birikim:Noun] birikim:Noun+A3sg+i:Acc\n",
            "daha  =>  [daha:Adv] daha:Adv\n",
            "fazlaydı  =>  [fazla:Adj] fazla:Adj|Zero→Verb+ydı:Past+A3sg\n",
            ".  =>  [.:Punc] .:Punc\n",
            "Yaşamı  =>  [Yaşam:Noun, Prop] yaşam:Noun+A3sg+ı:Acc\n",
            "her  =>  [her:Adj] her:Adj\n",
            "yönden  =>  [yön:Noun] yön:Noun+A3sg+den:Abl\n",
            "yalnızlığa  =>  [yalnız:Adj] yalnız:Adj|lığ:Ness→Noun+A3sg+a:Dat\n",
            "yaslanmış  =>  [yaslamak:Verb] yasla:Verb|n:Pass→Verb|mış:NarrPart→Adj\n",
            "olan  =>  [olmak:Verb] ol:Verb|an:PresPart→Adj\n",
            "bu  =>  [bu:Det] bu:Det\n",
            "kadına  =>  [kadı:Noun] kadı:Noun+A3sg+n:P2sg+a:Dat\n",
            "tek  =>  [tek:Adv] tek:Adv\n",
            "çocuğun  =>  [çocuk:Noun] çocuğ:Noun+A3sg+un:Gen\n",
            "bile  =>  [bile:Adv] bile:Adv\n",
            "anlayış  =>  [anlayış:Noun] anlayış:Noun+A3sg\n",
            "gösterdiğini  =>  [göstermek:Verb] göster:Verb|diğ:PastPart→Noun+A3sg+in:P2sg+i:Acc\n",
            "sanmam  =>  [sanmak:Verb] san:Verb+ma:Neg+Aor+m:A1sg\n",
            ".  =>  [.:Punc] .:Punc\n",
            "Polis  =>  [polis:Noun] polis:Noun+A3sg\n",
            "olay  =>  [olay:Noun] olay:Noun+A3sg\n",
            "yerine  =>  [yerine:Adv] yerine:Adv\n",
            "4  =>  [4:Num, Card] 4:Num\n",
            "dakika  =>  [dakika:Adv] dakika:Adv\n",
            "içinde  =>  [içinde:Adv] içinde:Adv\n",
            "ulaştı  =>  [ulaşmak:Verb] ulaş:Verb+tı:Past+A3sg\n",
            ".  =>  [.:Punc] .:Punc\n",
            "Yüksekte  =>  [Yüksek:Noun, Prop] yüksek:Noun+A3sg+te:Loc\n",
            "tutulan  =>  [tutulmak:Verb] tutul:Verb|an:PresPart→Adj\n",
            "bir  =>  [bir:Det] bir:Det\n",
            "taştaki  =>  [taş:Noun] taş:Noun+A3sg+ta:Loc|ki:Rel→Adj\n",
            "gizli  =>  [gizli:Adj] gizli:Adj\n",
            "güç  =>  [güç:Adj] güç:Adj\n",
            ",  =>  [,:Punc] ,:Punc\n",
            "taş  =>  [taş:Adj] taş:Adj\n",
            "bırakılınca  =>  [bırakmak:Verb] bırak:Verb|ıl:Pass→Verb|ınca:When→Adv\n",
            "mekanik  =>  [mekanik:Adj] mekanik:Adj\n",
            "bir  =>  [bir:Det] bir:Det\n",
            "güç  =>  [güç:Adj] güç:Adj\n",
            "durumunda  =>  [durum:Noun] durum:Noun+A3sg+un:P2sg+da:Loc\n",
            "ortaya  =>  [orta:Noun] orta:Noun+A3sg+ya:Dat\n",
            "çıkar  =>  [çıkmak:Verb] çık:Verb+ar:Aor+A3sg\n",
            ".  =>  [.:Punc] .:Punc\n",
            "Bu  =>  [bu:Det] bu:Det\n",
            "hastanede  =>  [hastane:Noun] hastane:Noun+A3sg+de:Loc\n",
            "doğmuşum  =>  [doğmak:Verb] doğ:Verb+muş:Narr+um:A1sg\n",
            ".  =>  [.:Punc] .:Punc\n",
            "xxxxxxxxxxxxxxxxxxxxxx  =>  No analysis\n"
          ]
        }
      ]
    }
  ]
}